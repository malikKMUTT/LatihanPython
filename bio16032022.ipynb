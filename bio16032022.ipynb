{
 "cells": [
  {
   "cell_type": "code",
   "execution_count": 4,
   "id": "cf4f2ad2-4435-4d82-995a-e9f1d6d0d8f1",
   "metadata": {},
   "outputs": [
    {
     "name": "stdout",
     "output_type": "stream",
     "text": [
      "{'Count': '32', 'RetMax': '20', 'RetStart': '0', 'IdList': ['2077483947', '2077483900', '2077481541', '2077481539', '2076534810', '2076518480', '2076512188', '2076506438', '1575793337', '1442313580', '1434149962', '1417783633', '1328840380', '1328830285', '1328826726', '17135916', '470878', '259156800', '259156760', '353330094'], 'TranslationSet': [{'From': 'Cucurbita pepo', 'To': '\"Cucurbita pepo\"[Organism] OR Cucurbita pepo[All Fields]'}], 'TranslationStack': [{'Term': '\"Cucurbita pepo\"[Organism]', 'Field': 'Organism', 'Count': '76918', 'Explode': 'Y'}, {'Term': 'Cucurbita pepo[All Fields]', 'Field': 'All Fields', 'Count': '89463', 'Explode': 'N'}, 'OR', 'GROUP', {'Term': 'rbcL[All Fields]', 'Field': 'All Fields', 'Count': '353514', 'Explode': 'N'}, 'AND', 'GROUP'], 'QueryTranslation': '(\"Cucurbita pepo\"[Organism] OR Cucurbita pepo[All Fields]) AND rbcL[All Fields]'}\n"
     ]
    }
   ],
   "source": [
    "from Bio import Entrez\n",
    "Entrez.email = \"localuser@localhost.localdomain\" #Mandatory! Can be replaced with your personal email.\n",
    "\n",
    "#creating handle\n",
    "handle = Entrez.esearch(db=\"nuccore\", term=\"Cucurbita pepo rbcL\")\n",
    "record = Entrez.read(handle)\n",
    "print(record)\n",
    "handle.close() #always close your handle after you finish"
   ]
  },
  {
   "cell_type": "code",
   "execution_count": 6,
   "id": "1e643e7e-30d8-4cc1-a233-ff470ea5b221",
   "metadata": {},
   "outputs": [
    {
     "name": "stdout",
     "output_type": "stream",
     "text": [
      "LOCUS       CUCCPRBCL               1402 bp    DNA     linear   PLN 26-JUL-2016\n",
      "DEFINITION  Cucurbita pepo ribulose 1,5-bisphosphate carboxylase large subunit\n",
      "            (rbcL) gene, partial cds; chloroplast gene for chloroplast product.\n",
      "ACCESSION   L21938\n",
      "VERSION     L21938.1\n",
      "KEYWORDS    rbcL gene; ribulose 1,5-bisphosphate carboxylase large subunit.\n",
      "SOURCE      chloroplast Cucurbita pepo\n",
      "  ORGANISM  Cucurbita pepo\n",
      "            Eukaryota; Viridiplantae; Streptophyta; Embryophyta; Tracheophyta;\n",
      "            Spermatophyta; Magnoliopsida; eudicotyledons; Gunneridae;\n",
      "            Pentapetalae; rosids; fabids; Cucurbitales; Cucurbitaceae;\n",
      "            Cucurbiteae; Cucurbita.\n",
      "REFERENCE   1  (bases 1 to 1402)\n",
      "  AUTHORS   Swensen,S.M., Mullin,B.C. and Chase,M.W.\n",
      "  TITLE     Phylogenetic affinites of Datiscaceae based on an analysis of\n",
      "            nucleotide sequences from the plastid rbcL gene\n",
      "  JOURNAL   Syst. Bot. 19 (1), 157-168 (1994)\n",
      "COMMENT     Original source text: Chloroplast Cucurbita pepo DNA.\n",
      "FEATURES             Location/Qualifiers\n",
      "     source          1..1402\n",
      "                     /organism=\"Cucurbita pepo\"\n",
      "                     /organelle=\"plastid:chloroplast\"\n",
      "                     /mol_type=\"genomic DNA\"\n",
      "                     /db_xref=\"taxon:3663\"\n",
      "     gene            1..1402\n",
      "                     /gene=\"rbcL\"\n",
      "     CDS             <1..1402\n",
      "                     /gene=\"rbcL\"\n",
      "                     /codon_start=2\n",
      "                     /transl_table=11\n",
      "                     /product=\"ribulose-1,5-bisphosphate carboxylase/oxygenase\n",
      "                     large subunit\"\n",
      "                     /protein_id=\"AAA84184.1\"\n",
      "                     /translation=\"SVGFKAGVKDYKLTYYTPEYETKDTDILAAFRVTPQPGVPPEEA\n",
      "                     GAAVAAESSTGTWTTVWTDGLTSLDRYKGRCYGIEPVPGEENQYIAYVAYPLDLFEEG\n",
      "                     SVTNMFTSIVGNVFGFKALRALRLEDLRIPTAYIKTFQGPPHGIQVERDKLNKYGRPL\n",
      "                     LGCTIKPKLGLSAKNYGRAVYECLRGGLDFTKDDENVNSQPFMRWRDRFLFCAEAIYK\n",
      "                     SQAETGEIKGHYLNATAGTCEEMMKRAIFARELGAPIVMHDYLTGGFTANTSLAHYCR\n",
      "                     DNGLLLHIHRAMHAVIDRQKNHGMHFRVLAKALRLSGGDHIHAGTVVGKLEGERDITL\n",
      "                     GFVDLLRDDFVEKDRSRGIYFTQDWVSLPGVLPVASGGIHVWHMPALTEIFGDDSVLQ\n",
      "                     FGGGTLGHPWGNAPGAVANRVALEACVQARNEGRDLAREGNEIIREASKWSPELAAAC\n",
      "                     EVWKAIKFEFEAVDTL\"\n",
      "ORIGIN      \n",
      "        1 aagtgttgga ttcaaagctg gtgttaaaga ttataaattg acttattata ctcctgaata\n",
      "       61 tgaaaccaaa gatactgata tcttggcagc attccgagta actcctcaac cgggagttcc\n",
      "      121 acccgaggaa gcgggggccg ccgtagctgc tgaatcttct actggtacat ggacaactgt\n",
      "      181 gtggaccgat gggcttacca gtcttgatcg ttacaaagga cgatgctatg gaatcgagcc\n",
      "      241 tgttcctgga gaagaaaatc aatatattgc ttatgtagct tatcccctag acctttttga\n",
      "      301 agaaggttct gttactaaca tgtttacttc cattgtgggt aatgtatttg gattcaaggc\n",
      "      361 tctgcgtgct ctacgtctgg aggatttgcg aatccctact gcttatatta aaactttcca\n",
      "      421 aggcccgcct catggtatcc aggttgaaag agataaattg aacaagtatg gtcgccctct\n",
      "      481 attgggatgt actattaaac caaaattggg attatccgct aagaattatg gtagagcagt\n",
      "      541 ttatgaatgt ctacgcggtg gacttgattt taccaaagat gatgaaaacg tgaattccca\n",
      "      601 accatttatg cgttggagag accgtttcct attttgtgcg gaagccattt ataaatcaca\n",
      "      661 ggctgaaaca ggtgaaatca agggacatta cttgaatgct actgcgggta catgcgaaga\n",
      "      721 aatgatgaaa agggctatat ttgctcgaga attgggagct cctatcgtaa tgcatgacta\n",
      "      781 cttaacaggt ggattcactg caaatactag cttggctcat tattgccgag ataatggtct\n",
      "      841 acttcttcac attcaccgtg caatgcatgc cgttattgat agacagaaga atcatggtat\n",
      "      901 gcacttccgt gtactagcta aagcgttacg tctgtctggt ggagaccata ttcacgctgg\n",
      "      961 taccgtagta ggtaaacttg aaggggaaag agacatcact ttaggctttg ttgatttact\n",
      "     1021 acgtgatgat tttgttgaaa aagatcgaag ccgcggtatt tatttcactc aagattgggt\n",
      "     1081 ctctttacca ggtgttctgc cagtggcttc cggtggtatt cacgtttggc atatgcctgc\n",
      "     1141 tctaaccgag atttttggag atgattctgt actacaattc ggcggaggaa ctttggggca\n",
      "     1201 cccttggggt aatgcaccag gtgccgtagc taaccgagta gctctagaag catgtgtaca\n",
      "     1261 agctcgtaat gagggacgtg atcttgctcg tgagggtaat gaaattatcc gtgaggctag\n",
      "     1321 taaatggagt cctgaactag ctgctgcttg tgaagtatgg aaggcgatca aattcgaatt\n",
      "     1381 tgaggcagta gatactttgt aa\n",
      "//\n",
      "\n",
      "\n"
     ]
    }
   ],
   "source": [
    "efetch_handle = Entrez.efetch(db=\"nuccore\", id=\"470878\", rettype=\"gb\", retmode=\"text\")\n",
    "gbrecord = efetch_handle.read()\n",
    "print(gbrecord)"
   ]
  },
  {
   "cell_type": "code",
   "execution_count": 7,
   "id": "a53b3f0d-1ad8-44c7-baac-79a5b602a637",
   "metadata": {},
   "outputs": [
    {
     "name": "stdout",
     "output_type": "stream",
     "text": [
      ">L21938.1 Cucurbita pepo ribulose 1,5-bisphosphate carboxylase large subunit (rbcL) gene, partial cds; chloroplast gene for chloroplast product\n",
      "AAGTGTTGGATTCAAAGCTGGTGTTAAAGATTATAAATTGACTTATTATACTCCTGAATATGAAACCAAA\n",
      "GATACTGATATCTTGGCAGCATTCCGAGTAACTCCTCAACCGGGAGTTCCACCCGAGGAAGCGGGGGCCG\n",
      "CCGTAGCTGCTGAATCTTCTACTGGTACATGGACAACTGTGTGGACCGATGGGCTTACCAGTCTTGATCG\n",
      "TTACAAAGGACGATGCTATGGAATCGAGCCTGTTCCTGGAGAAGAAAATCAATATATTGCTTATGTAGCT\n",
      "TATCCCCTAGACCTTTTTGAAGAAGGTTCTGTTACTAACATGTTTACTTCCATTGTGGGTAATGTATTTG\n",
      "GATTCAAGGCTCTGCGTGCTCTACGTCTGGAGGATTTGCGAATCCCTACTGCTTATATTAAAACTTTCCA\n",
      "AGGCCCGCCTCATGGTATCCAGGTTGAAAGAGATAAATTGAACAAGTATGGTCGCCCTCTATTGGGATGT\n",
      "ACTATTAAACCAAAATTGGGATTATCCGCTAAGAATTATGGTAGAGCAGTTTATGAATGTCTACGCGGTG\n",
      "GACTTGATTTTACCAAAGATGATGAAAACGTGAATTCCCAACCATTTATGCGTTGGAGAGACCGTTTCCT\n",
      "ATTTTGTGCGGAAGCCATTTATAAATCACAGGCTGAAACAGGTGAAATCAAGGGACATTACTTGAATGCT\n",
      "ACTGCGGGTACATGCGAAGAAATGATGAAAAGGGCTATATTTGCTCGAGAATTGGGAGCTCCTATCGTAA\n",
      "TGCATGACTACTTAACAGGTGGATTCACTGCAAATACTAGCTTGGCTCATTATTGCCGAGATAATGGTCT\n",
      "ACTTCTTCACATTCACCGTGCAATGCATGCCGTTATTGATAGACAGAAGAATCATGGTATGCACTTCCGT\n",
      "GTACTAGCTAAAGCGTTACGTCTGTCTGGTGGAGACCATATTCACGCTGGTACCGTAGTAGGTAAACTTG\n",
      "AAGGGGAAAGAGACATCACTTTAGGCTTTGTTGATTTACTACGTGATGATTTTGTTGAAAAAGATCGAAG\n",
      "CCGCGGTATTTATTTCACTCAAGATTGGGTCTCTTTACCAGGTGTTCTGCCAGTGGCTTCCGGTGGTATT\n",
      "CACGTTTGGCATATGCCTGCTCTAACCGAGATTTTTGGAGATGATTCTGTACTACAATTCGGCGGAGGAA\n",
      "CTTTGGGGCACCCTTGGGGTAATGCACCAGGTGCCGTAGCTAACCGAGTAGCTCTAGAAGCATGTGTACA\n",
      "AGCTCGTAATGAGGGACGTGATCTTGCTCGTGAGGGTAATGAAATTATCCGTGAGGCTAGTAAATGGAGT\n",
      "CCTGAACTAGCTGCTGCTTGTGAAGTATGGAAGGCGATCAAATTCGAATTTGAGGCAGTAGATACTTTGT\n",
      "AA\n",
      "\n",
      "\n"
     ]
    }
   ],
   "source": [
    "efetch_handle = Entrez.efetch(db=\"nuccore\", id=\"470878\", rettype=\"fasta\", retmode=\"text\")\n",
    "gbrecord = efetch_handle.read()\n",
    "print(gbrecord)"
   ]
  },
  {
   "cell_type": "code",
   "execution_count": 9,
   "id": "a6623cd1-6493-4d2b-86fb-58372957c7e8",
   "metadata": {},
   "outputs": [
    {
     "name": "stdout",
     "output_type": "stream",
     "text": [
      "FASTA Download\n"
     ]
    }
   ],
   "source": [
    "import os\n",
    "    \n",
    "#creating EFetch handle\n",
    "filename = \"rbcL cucurbita pepo.fasta\" #up to you, but FASTA files always use *.fasta or *.fas \n",
    "\n",
    "#creating EFetch handle\n",
    "if not os.path.isfile(filename):\n",
    "    # Downloading file...\n",
    "    efetch_handle = Entrez.efetch(db=\"nuccore\", id=\"470878\", rettype=\"fasta\", retmode=\"text\")\n",
    "    output_file_handle = open(filename, \"w\")\n",
    "    output_file_handle.write(efetch_handle.read())\n",
    "    output_file_handle.close()\n",
    "    efetch_handle.close()\n",
    "    print(\"FASTA Download\")"
   ]
  },
  {
   "cell_type": "code",
   "execution_count": 10,
   "id": "ab91cde3-c034-4d9e-a6f5-fe203e3b43d4",
   "metadata": {},
   "outputs": [
    {
     "name": "stdout",
     "output_type": "stream",
     "text": [
      "GB Downloaded\n"
     ]
    }
   ],
   "source": [
    "#creating EFetch handle\n",
    "filename = \"Cucurbita pepo complete chloroplast2.gbk\" #up to you, but Genbank files always use *.gb or *.gbk \n",
    "\n",
    "#creating EFetch handle\n",
    "if not os.path.isfile(filename):\n",
    "    # Downloading file...\n",
    "    efetch_handle = Entrez.efetch(db=\"nuccore\", id=\"1442313580\", rettype=\"gb\", retmode=\"text\")\n",
    "    output_file_handle = open(filename, \"w\")\n",
    "    output_file_handle.write(efetch_handle.read())\n",
    "    output_file_handle.close()\n",
    "    efetch_handle.close()\n",
    "    print(\"GB Downloaded\")"
   ]
  },
  {
   "cell_type": "code",
   "execution_count": 12,
   "id": "8950b3e8-30c7-4d60-aa9d-853954eba648",
   "metadata": {},
   "outputs": [
    {
     "name": "stdout",
     "output_type": "stream",
     "text": [
      ">rbcL|Cucurbita pepo chloroplast, complete genome\n",
      "ATGAGTTGTAGGGAGGGACTTATGTCACCACAAACAGAGACTAAAGCAAGTGTTGGATTCAAAGCTGGTGTTAAAGATTATAAATTGACTTATTATACTCCTGAATATGAAACCAAAGATACTGATATCTTGGCAGCATTCCGAGTAACTCCTCAACCGGGAGTTCCACCCGAGGAAGCAGGGGCCGCTGTAGCTGCTGAATCTTCTACTGGTACATGGACAACTGTGTGGACCGATGGGCTTACCAGTCTTGATCGTTACAAAGGACGATGCTATGGAATCGAGCCTGTTCCTGGAGAAGAAAATCAATATATTGCTTATGTAGCTTATCCTCTAGACCTTTTTGAAGAAGGTTCTGTTACTAACATGTTTACTTCCATTGTGGGTAATGTATTTGGATTCAAGGCTCTGCGTGCTCTACGTCTGGAGGATTTGCGAATCCCTACTGCTTATATTAAAACTTTCCAAGGCCCGCCTCATGGTATCCAGGTTGAAAGAGATAAATTGAACAAGTATGGTCGCCCTCTATTGGGATGTACTATTAAACCAAAATTGGGATTATCCGCTAAGAATTATGGTAGAGCAGTTTATGAATGTCTACGCGGTGGACTTGATTTTACCAAAGATGATGAAAACGTGAATTCCCAACCATTTATGCGTTGGAGAGACCGTTTCCTATTTTGTGCGGAAGCCATTTATAAATCACAGGCTGAAACAGGTGAAATCAAGGGACATTACTTGAATGCTACTGCGGGTACATGCGAAGAAATGATGAAAAGGGCTATATTTGCTCGAGAATTGGGAGTTCCTATCGTAATGCATGACTACTTAACAGGTGGATTCACTGCAAATACTAGCTTGGCTCATTATTGCCGAGATAATGGTCTACTTCTTCACATTCACCGTGCAATGCATGCCGTTATTGATAGACAGAAGAATCATGGTATGCACTTCCGTGTACTAGCTAAAGCGTTACGTCTGTCTGGTGGAGACCATATTCACGCTGGTACCGTAGTAGGTAAACTTGAAGGGGAAAGAGACATCACTTTAGGCTTTGTTGATTTACTACGTGATGATTTTGTTGAAAAAGATCGAAGCCGCGGTATTTATTTCACTCAAGATTGGGTCTCTTTACCAGGTGTTCTGCCAGTGGCTTCCGGTGGTATTCACGTTTGGCATATGCCTGCTCTAACCGAGATTTTTGGAGATGATTCTGTACTACAATTCGGCGGAGGAACTTTGGGGCACCCTTGGGGTAATGCACCAGGTGCCGTAGCTAACCGAGTAGCTCTAGAAGCATGTGTACAAGCTCGTAATGAGGGACGTGATCTTGCTCGTGAGGGTAATGAAATTATCCGTGAGGCTAGTAAATGGAGTCCTGAACTAGCTGCTGCTTGTGAAGTATGGAAGGCGATCAAATTCGAATTTGAGGCAGTAGATACTTTGTAA\n"
     ]
    }
   ],
   "source": [
    "from Bio import SeqIO\n",
    "\n",
    "GoI = \"rbcL\" #change \" rbcL\" here with your GoI\n",
    "\n",
    "for genome in SeqIO.parse(\"Cucurbita pepo complete chloroplast.gbk\",\"genbank\"):\n",
    "    for gene in genome.features:\n",
    "        if gene.type != \"CDS\":\n",
    "            continue\n",
    "        if \"gene\" not in gene.qualifiers:\n",
    "            continue\n",
    "        if GoI not in gene.qualifiers[\"gene\"][0]: \n",
    "            continue\n",
    "        gene_seq = gene.extract(genome.seq)\n",
    "\n",
    "GoI_fasta = \">%s|%s\\n%s\" % (GoI, genome.description, gene_seq)\n",
    "print(GoI_fasta)"
   ]
  },
  {
   "cell_type": "code",
   "execution_count": null,
   "id": "10c0759b-69e4-4a76-b85c-a8e7aaa67e71",
   "metadata": {},
   "outputs": [],
   "source": []
  }
 ],
 "metadata": {
  "kernelspec": {
   "display_name": "Python 3 (ipykernel)",
   "language": "python",
   "name": "python3"
  },
  "language_info": {
   "codemirror_mode": {
    "name": "ipython",
    "version": 3
   },
   "file_extension": ".py",
   "mimetype": "text/x-python",
   "name": "python",
   "nbconvert_exporter": "python",
   "pygments_lexer": "ipython3",
   "version": "3.9.10"
  }
 },
 "nbformat": 4,
 "nbformat_minor": 5
}
